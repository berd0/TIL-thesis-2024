{
 "cells": [
  {
   "cell_type": "code",
   "execution_count": null,
   "id": "initial_id",
   "metadata": {
    "ExecuteTime": {
     "end_time": "2024-06-29T19:08:30.413656Z",
     "start_time": "2024-06-29T19:08:25.267450Z"
    },
    "collapsed": true
   },
   "outputs": [],
   "source": [
    "import geopandas as gpd\n",
    "import pandas as pd\n",
    "import matplotlib.pyplot as plt\n",
    "from pytorch_lightning import seed_everything\n",
    "from sklearn.cluster import KMeans\n",
    "from sklearn.decomposition import PCA\n",
    "from sklearn.cluster import KMeans\n",
    "import h3\n",
    "from shapely.ops import transform\n",
    "from functools import partial\n",
    "import pyproj\n",
    "\n",
    "from srai.embedders import Highway2VecEmbedder, Hex2VecEmbedder, GTFS2VecEmbedder, GeoVexEmbedder\n",
    "from srai.joiners import IntersectionJoiner\n",
    "from srai.loaders import OSMNetworkType, OSMWayLoader, OSMOnlineLoader, OSMPbfLoader, GTFSLoader\n",
    "from srai.loaders.osm_loaders.filters import GEOFABRIK_LAYERS, HEX2VEC_FILTER\n",
    "from srai.neighbourhoods import H3Neighbourhood\n",
    "from srai.plotting import plot_regions, plot_numeric_data\n",
    "from srai.regionalizers import H3Regionalizer, geocode_to_region_gdf\n",
    "from srai.h3 import ring_buffer_h3_regions_gdf\n",
    "\n",
    "from pathlib import Path\n",
    "from tqdm import tqdm\n",
    "import torch\n",
    "from torchvision import transforms\n",
    "from torchvision.models import resnet50, ResNet50_Weights\n",
    "from PIL import Image\n",
    "import numpy as np\n",
    "from torch.utils.data import Dataset, DataLoader"
   ]
  },
  {
   "cell_type": "code",
   "execution_count": null,
   "id": "ebc2e7d81f56cc05",
   "metadata": {
    "ExecuteTime": {
     "end_time": "2024-06-29T19:08:30.416984Z",
     "start_time": "2024-06-29T19:08:30.414658Z"
    },
    "collapsed": false
   },
   "outputs": [],
   "source": [
    "import warnings\n",
    "warnings.filterwarnings('ignore')"
   ]
  },
  {
   "cell_type": "code",
   "execution_count": null,
   "id": "5d79a9475909fc04",
   "metadata": {
    "ExecuteTime": {
     "end_time": "2024-06-29T19:08:30.424845Z",
     "start_time": "2024-06-29T19:08:30.417485Z"
    },
    "collapsed": false
   },
   "outputs": [],
   "source": [
    "def load_and_prepare_data():\n",
    "    \"\"\"\n",
    "    Loads and prepares geographical data and Leefbaarometer data.\n",
    "    Returns GeoDataFrames ready for processing.\n",
    "    \"\"\"\n",
    "    # Load geographical data for South Holland and transform to H3 hexagons (resolution 9)\n",
    "    area_southholland_gdf = geocode_to_region_gdf(\"South Holland, Netherlands\")\n",
    "    regions_southholland_gdf = H3Regionalizer(10).transform(area_southholland_gdf)\n",
    "\n",
    "    # Load Leefbaarometer shapefile and values\n",
    "    leefbaarometer_shape_gdf = gpd.read_file(\"D:\\\\tu delft\\\\Afstuderen\\\\geometrie-leefbaarometer-3-0\\\\grid 2020.shp\")\n",
    "    leefbaarometer_values_df = pd.read_csv(\"D:\\\\tu delft\\\\Afstuderen\\\\open-data-leefbaarometer-meting-2022_2023-11-21_1035\\\\Leefbaarometer-scores grids 2002-2022.csv\")\n",
    "    leefbaarometer_values_df = leefbaarometer_values_df[leefbaarometer_values_df['jaar'] == 2022]\n",
    "\n",
    "    # Ensure both GeoDataFrames are in the same projection (EPSG:4326)\n",
    "    regions_southholland_gdf = regions_southholland_gdf.to_crs(epsg=4326)\n",
    "    leefbaarometer_shape_gdf = leefbaarometer_shape_gdf.to_crs(epsg=4326)\n",
    "\n",
    "    return regions_southholland_gdf, leefbaarometer_shape_gdf, leefbaarometer_values_df\n",
    "\n",
    "def calculate_intersection_areas(regions_gdf, leefbaarometer_shape_gdf, leefbaarometer_values_df):\n",
    "    \"\"\"\n",
    "    Calculates intersection areas between regions and Leefbaarometer shapes in square meters,\n",
    "    merges Leefbaarometer values, and computes weighted averages for each region.\n",
    "    Returns a DataFrame with `region_id` as the index and simplified column names for scores.\n",
    "    \"\"\"\n",
    "    # Project GeoDataFrames to EPSG:28992 for accurate area calculation in square meters\n",
    "    regions_gdf_projected = regions_gdf.to_crs(epsg=28992)\n",
    "    leefbaarometer_shape_gdf_projected = leefbaarometer_shape_gdf.to_crs(epsg=28992)\n",
    "\n",
    "    # Perform spatial intersection on projected GeoDataFrames\n",
    "    intersections = gpd.overlay(regions_gdf_projected.reset_index(), leefbaarometer_shape_gdf_projected, how='intersection')\n",
    "\n",
    "    # Calculate intersection area in square meters\n",
    "    intersections['IntersectionArea'] = intersections.geometry.area\n",
    "\n",
    "    # Merge with Leefbaarometer values\n",
    "    intersections = intersections.merge(leefbaarometer_values_df, left_on='grid_id', right_on='grid_id', how='left')\n",
    "\n",
    "    score_columns = ['lbm', 'afw', 'fys', 'onv', 'soc', 'vrz', 'won']\n",
    "\n",
    "    # Calculate weighted scores based on intersection area\n",
    "    for column in score_columns:\n",
    "        intersections[f'Weighted{column.upper()}'] = intersections[column] * intersections['IntersectionArea']\n",
    "\n",
    "    # Aggregate weighted scores and total intersection area by region\n",
    "    aggregation = {f'Weighted{column.upper()}': 'sum' for column in score_columns}\n",
    "    aggregation['IntersectionArea'] = 'sum'\n",
    "    grouped = intersections.groupby('region_id').agg(aggregation)\n",
    "\n",
    "    # Calculate the weighted average for each score column and simplify column names\n",
    "    for column in score_columns:\n",
    "        grouped[column] = grouped[f'Weighted{column.upper()}'] / grouped['IntersectionArea']\n",
    "        del grouped[f'Weighted{column.upper()}']  # Remove intermediary weighted score columns\n",
    "\n",
    "    # Fill NaN values with 0\n",
    "    grouped.fillna(0, inplace=True)\n",
    "\n",
    "    return grouped\n",
    "\n",
    "def merge_data(regions_gdf, weighted_averages):\n",
    "    \"\"\"\n",
    "    Merges the DataFrame with weighted averages into the regions GeoDataFrame.\n",
    "    Assumes 'region_id' is the identifier for regions in 'regions_gdf' and is present in 'weighted_averages' DataFrame.\n",
    "    \"\"\"\n",
    "    # Ensure regions_gdf has 'region_id' as a column for merging, if it's originally an index\n",
    "    if regions_gdf.index.name == 'region_id':\n",
    "        regions_gdf.reset_index(inplace=True)\n",
    "\n",
    "    # Merge weighted averages into the regions GeoDataFrame\n",
    "    leefbaarometer_gdf = regions_gdf.merge(weighted_averages, on='region_id', how='left')\n",
    "\n",
    "    # Set 'region_id' as the index for the final GeoDataFrame\n",
    "    leefbaarometer_gdf.set_index('region_id', inplace=True)\n",
    "    leefbaarometer_gdf.fillna(0, inplace=True)  # Fill NaN values with 0\n",
    "    return leefbaarometer_gdf\n",
    "\n",
    "def select_regions_based_on_intersection_area(leefbaarometer_gdf, minimum_intersection_area):\n",
    "    \"\"\"\n",
    "    Selects regions with at least the specified minimum intersection area.\n",
    "    Returns a GeoDataFrame of selected regions.\n",
    "    \"\"\"\n",
    "    return leefbaarometer_gdf[leefbaarometer_gdf['IntersectionArea'] >= minimum_intersection_area]"
   ]
  },
  {
   "cell_type": "code",
   "execution_count": null,
   "id": "c2da2282a60a0a9f",
   "metadata": {
    "ExecuteTime": {
     "end_time": "2024-06-29T19:10:19.292474Z",
     "start_time": "2024-06-29T19:08:30.425354Z"
    }
   },
   "outputs": [],
   "source": [
    "# Main execution flow\n",
    "regions_gdf, leefbaarometer_shape_gdf, leefbaarometer_values_df = load_and_prepare_data()\n",
    "weighted_averages = calculate_intersection_areas(regions_gdf, leefbaarometer_shape_gdf, leefbaarometer_values_df)\n",
    "leefbaarometer_gdf = merge_data(regions_gdf, weighted_averages)"
   ]
  },
  {
   "cell_type": "code",
   "execution_count": null,
   "id": "1ad9ec1d41eed36a",
   "metadata": {
    "ExecuteTime": {
     "end_time": "2024-06-29T19:15:41.285184Z",
     "start_time": "2024-06-29T19:15:41.159434Z"
    }
   },
   "outputs": [],
   "source": [
    "# Plot the distribution of LBM scores per hexagon\n",
    "plt.figure(figsize=(10, 6))\n",
    "plt.hist(leefbaarometer_gdf['IntersectionArea'], bins=30, alpha=0.75, edgecolor='black')\n",
    "plt.title('Histogram of intersection between leefbaarometer squares and H3 hexagons')\n",
    "plt.xlabel('Intersecting area square meters')\n",
    "plt.ylabel('Number of Hexagons')\n",
    "plt.grid(True)\n",
    "plt.show()"
   ]
  },
  {
   "cell_type": "code",
   "execution_count": null,
   "id": "b2ae9e147178d959",
   "metadata": {
    "ExecuteTime": {
     "end_time": "2024-06-29T19:16:21.582529Z",
     "start_time": "2024-06-29T19:16:21.566523Z"
    }
   },
   "outputs": [],
   "source": [
    "# Select regions with at least 10000 square meters of intersection area\n",
    "selected_regions_gdf = select_regions_based_on_intersection_area(leefbaarometer_gdf, 10000)\n",
    "print(selected_regions_gdf.shape)"
   ]
  },
  {
   "cell_type": "code",
   "execution_count": null,
   "id": "668f54158881eafa",
   "metadata": {
    "ExecuteTime": {
     "end_time": "2024-06-29T19:20:44.093462Z",
     "start_time": "2024-06-29T19:20:18.295999Z"
    }
   },
   "outputs": [],
   "source": [
    "# Buffer selected regions and merge with weighted averages\n",
    "selected_regions_buffered_gdf_nomerge = ring_buffer_h3_regions_gdf(selected_regions_gdf, 15)\n",
    "selected_regions_buffered_gdf = merge_data(selected_regions_buffered_gdf_nomerge, weighted_averages)"
   ]
  },
  {
   "cell_type": "code",
   "execution_count": null,
   "id": "b3ef9458ee91f543",
   "metadata": {
    "ExecuteTime": {
     "end_time": "2024-06-29T19:16:57.155868Z",
     "start_time": "2024-06-29T19:16:30.629339Z"
    },
    "collapsed": false
   },
   "outputs": [],
   "source": [
    "plot_numeric_data(selected_regions_buffered_gdf, 'afw', colormap='coolwarm')"
   ]
  },
  {
   "cell_type": "code",
   "execution_count": null,
   "id": "83fbef3602f55c70",
   "metadata": {
    "ExecuteTime": {
     "end_time": "2024-06-29T19:17:05.683165Z",
     "start_time": "2024-06-29T19:16:58.812277Z"
    }
   },
   "outputs": [],
   "source": [
    "plot_numeric_data(selected_regions_gdf, 'afw', colormap='coolwarm')"
   ]
  },
  {
   "cell_type": "code",
   "execution_count": null,
   "id": "ea0c4ae9180c239e",
   "metadata": {
    "ExecuteTime": {
     "end_time": "2024-06-29T19:21:36.217342Z",
     "start_time": "2024-06-29T19:20:44.094463Z"
    },
    "collapsed": false
   },
   "outputs": [],
   "source": [
    "# Export selected_hexagons_buffered to a geojson file\n",
    "selected_regions_buffered_gdf.to_file(\"selected_regions_buffered_10.geojson\", driver='GeoJSON')\n",
    "selected_regions_gdf.to_file(\"selected_regions_10.geojson\", driver='GeoJSON')\n",
    "# # selected_hexagons.to_file(r\"D:\\tu delft\\Afstuderen\\flat contrastive loss\\selected_hexagons.geojson\", driver='GeoJSON')\n",
    "# #selected_hexagons_buffered.to_file(r\"D:\\tu delft\\Afstuderen\\flat contrastive loss\\selected_hexagons_buffered.geojson\", driver='GeoJSON')"
   ]
  },
  {
   "cell_type": "code",
   "execution_count": null,
   "id": "b6600c7f14eafd34",
   "metadata": {},
   "outputs": [],
   "source": []
  }
 ],
 "metadata": {
  "kernelspec": {
   "display_name": "Python 3",
   "language": "python",
   "name": "python3"
  },
  "language_info": {
   "codemirror_mode": {
    "name": "ipython",
    "version": 2
   },
   "file_extension": ".py",
   "mimetype": "text/x-python",
   "name": "python",
   "nbconvert_exporter": "python",
   "pygments_lexer": "ipython2",
   "version": "2.7.6"
  }
 },
 "nbformat": 4,
 "nbformat_minor": 5
}
