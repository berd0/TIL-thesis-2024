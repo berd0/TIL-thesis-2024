{
 "cells": [
  {
   "cell_type": "code",
   "execution_count": null,
   "id": "initial_id",
   "metadata": {
    "ExecuteTime": {
     "end_time": "2024-06-30T08:59:33.363362Z",
     "start_time": "2024-06-30T08:59:26.549440Z"
    },
    "collapsed": true
   },
   "outputs": [],
   "source": [
    "import geopandas as gpd\n",
    "import pandas as pd\n",
    "import matplotlib.pyplot as plt\n",
    "from pytorch_lightning import seed_everything\n",
    "from sklearn.cluster import KMeans\n",
    "from sklearn.decomposition import PCA\n",
    "from sklearn.cluster import KMeans\n",
    "import h3\n",
    "from shapely.ops import transform\n",
    "from functools import partial\n",
    "import pyproj\n",
    "\n",
    "from srai.embedders import Highway2VecEmbedder, Hex2VecEmbedder, GTFS2VecEmbedder, GeoVexEmbedder\n",
    "from srai.joiners import IntersectionJoiner\n",
    "from srai.loaders import OSMNetworkType, OSMWayLoader, OSMOnlineLoader, OSMPbfLoader, GTFSLoader\n",
    "from srai.loaders.osm_loaders.filters import GEOFABRIK_LAYERS, HEX2VEC_FILTER\n",
    "from srai.neighbourhoods import H3Neighbourhood\n",
    "from srai.plotting import plot_regions, plot_numeric_data\n",
    "from srai.regionalizers import H3Regionalizer, geocode_to_region_gdf\n",
    "from srai.h3 import ring_buffer_h3_regions_gdf\n",
    "\n",
    "from pathlib import Path\n",
    "from tqdm import tqdm\n",
    "import torch\n",
    "from torchvision import transforms\n",
    "from torchvision.models import resnet50, ResNet50_Weights\n",
    "from PIL import Image\n",
    "import numpy as np\n",
    "from torch.utils.data import Dataset, DataLoader\n"
   ]
  },
  {
   "cell_type": "code",
   "execution_count": null,
   "id": "ebc2e7d81f56cc05",
   "metadata": {
    "ExecuteTime": {
     "end_time": "2024-06-30T08:59:33.367233Z",
     "start_time": "2024-06-30T08:59:33.364430Z"
    },
    "collapsed": false
   },
   "outputs": [],
   "source": [
    "import warnings\n",
    "warnings.filterwarnings('ignore')"
   ]
  },
  {
   "cell_type": "markdown",
   "id": "4478b943885e8676",
   "metadata": {},
   "source": [
    "# Import regions"
   ]
  },
  {
   "cell_type": "code",
   "execution_count": null,
   "id": "72e416367a0ec9ce",
   "metadata": {
    "ExecuteTime": {
     "end_time": "2024-06-30T09:02:04.040252Z",
     "start_time": "2024-06-30T09:01:09.639127Z"
    },
    "collapsed": false
   },
   "outputs": [],
   "source": [
    "selected_regions_gdf = gpd.read_file(\"selected_regions_10.geojson\")\n",
    "selected_regions_buffered_gdf = gpd.read_file(\"selected_regions_buffered_10.geojson\")\n",
    "# set index to region_id\n",
    "selected_regions_gdf.set_index(\"region_id\", inplace=True)\n",
    "selected_regions_buffered_gdf.set_index(\"region_id\", inplace=True)\n",
    "# remove irrelevant columns Index(['IntersectionArea', 'lbm', 'afw', 'fys', 'onv', 'soc', 'vrz', 'won'] (gives value error when doing hex2vec)\n",
    "selected_regions_gdf.drop(columns=['IntersectionArea', 'lbm', 'afw', 'fys', 'onv', 'soc', 'vrz', 'won'], inplace=True)\n",
    "selected_regions_buffered_gdf.drop(columns=['IntersectionArea', 'lbm', 'afw', 'fys', 'onv', 'soc', 'vrz', 'won'], inplace=True)"
   ]
  },
  {
   "cell_type": "markdown",
   "id": "3193c77006d9f15d",
   "metadata": {
    "collapsed": false
   },
   "source": [
    "# Prepare embeddings"
   ]
  },
  {
   "cell_type": "code",
   "execution_count": null,
   "id": "fc504511b26acb4b",
   "metadata": {
    "ExecuteTime": {
     "end_time": "2024-06-30T09:02:04.043761Z",
     "start_time": "2024-06-30T09:02:04.041257Z"
    },
    "collapsed": false
   },
   "outputs": [],
   "source": [
    "# tags = HEX2VEC_FILTER\n",
    "# loader = OSMOnlineLoader()\n",
    "# area_southholland_gdf = geocode_to_region_gdf(\"South Holland, Netherlands\")\n",
    "# features_gdf = loader.load(area_southholland_gdf, tags)"
   ]
  },
  {
   "cell_type": "code",
   "execution_count": null,
   "id": "465b157634183925",
   "metadata": {
    "ExecuteTime": {
     "end_time": "2024-06-30T09:02:27.530883Z",
     "start_time": "2024-06-30T09:02:04.044273Z"
    }
   },
   "outputs": [],
   "source": [
    "tags = GEOFABRIK_LAYERS\n",
    "loader = OSMPbfLoader()\n",
    "\n",
    "features_gdf = loader.load(selected_regions_buffered_gdf, tags)"
   ]
  },
  {
   "cell_type": "code",
   "execution_count": null,
   "id": "ee4f3636a80a20ed",
   "metadata": {
    "ExecuteTime": {
     "end_time": "2024-06-30T09:02:27.550606Z",
     "start_time": "2024-06-30T09:02:27.532391Z"
    },
    "collapsed": false
   },
   "outputs": [],
   "source": [
    "features_gdf.head()"
   ]
  },
  {
   "cell_type": "code",
   "execution_count": null,
   "id": "462e04597e4f6430",
   "metadata": {
    "ExecuteTime": {
     "end_time": "2024-06-30T09:03:27.963202Z",
     "start_time": "2024-06-30T09:02:27.551615Z"
    },
    "collapsed": false
   },
   "outputs": [],
   "source": [
    "seed_everything(42)\n",
    "joiner = IntersectionJoiner()\n",
    "joint_gdf = joiner.transform(selected_regions_buffered_gdf, features_gdf)"
   ]
  },
  {
   "cell_type": "code",
   "execution_count": null,
   "id": "37985dff011fcee3",
   "metadata": {
    "ExecuteTime": {
     "end_time": "2024-06-30T09:03:27.966578Z",
     "start_time": "2024-06-30T09:03:27.963709Z"
    }
   },
   "outputs": [],
   "source": [
    "# neighbourhood = H3Neighbourhood(selected_regions_buffered_gdf)\n",
    "# \n",
    "# embedder = Hex2VecEmbedder()\n",
    "# \n",
    "# embeddings_POI_hex2vec = embedder.fit_transform(\n",
    "#     selected_regions_buffered_gdf,\n",
    "#     features_gdf,\n",
    "#     joint_gdf,\n",
    "#     neighbourhood,\n",
    "#     trainer_kwargs={\"max_epochs\": 20, \"accelerator\": \"gpu\"},\n",
    "#     batch_size=128,\n",
    "# )"
   ]
  },
  {
   "cell_type": "code",
   "execution_count": null,
   "id": "9c76e8456ab58847",
   "metadata": {
    "ExecuteTime": {
     "end_time": "2024-06-30T09:03:49.088926Z",
     "start_time": "2024-06-30T09:03:49.046509Z"
    }
   },
   "outputs": [],
   "source": [
    "neighbourhood = H3Neighbourhood(selected_regions_buffered_gdf)\n",
    "\n",
    "embedder = GeoVexEmbedder(\n",
    "    target_features=GEOFABRIK_LAYERS,\n",
    "    batch_size=128,\n",
    "    neighbourhood_radius=5,     # see step 0 study area preparation - buffer of 15 hexaxgonal neighbors (3 times that of res 9 - 3 hex fit in 1 res 9)- no wait 15 is too much, 5 is enough we will do aggregation in a later step too remember this is just to create single view embedding\n",
    "    convolutional_layers=2,\n",
    "    embedding_size=50,\n",
    ")"
   ]
  },
  {
   "cell_type": "code",
   "execution_count": null,
   "id": "4e0714f0c4b1dc30",
   "metadata": {
    "ExecuteTime": {
     "end_time": "2024-06-30T09:28:58.019296Z",
     "start_time": "2024-06-30T09:03:52.996863Z"
    }
   },
   "outputs": [],
   "source": [
    "with warnings.catch_warnings():\n",
    "    warnings.simplefilter(\"ignore\")\n",
    "\n",
    "    embeddings_POI_geovex = embedder.fit_transform(\n",
    "        regions_gdf=selected_regions_buffered_gdf,\n",
    "        features_gdf=features_gdf,\n",
    "        joint_gdf=joint_gdf,\n",
    "        neighbourhood=neighbourhood,\n",
    "        trainer_kwargs={\n",
    "            # \"max_epochs\": 20, # uncomment for a longer training\n",
    "            \"max_epochs\": 4,\n",
    "            \"accelerator\": (\n",
    "                \"cpu\" if torch.backends.mps.is_available() else \"auto\"\n",
    "            ),  # GeoVexEmbedder does not support MPS\n",
    "        },\n",
    "        learning_rate=0.001,\n",
    "    )"
   ]
  },
  {
   "cell_type": "code",
   "execution_count": null,
   "id": "a23712db15aaaa71",
   "metadata": {
    "ExecuteTime": {
     "end_time": "2024-06-30T09:30:18.915805Z",
     "start_time": "2024-06-30T09:30:17.767708Z"
    }
   },
   "outputs": [],
   "source": [
    "from Plotting import pca_plot, cluster_plot\n",
    "# import csv of hex2vec embeddings for plotting and comparison\n",
    "embeddings_POI_hex2vec = pd.read_csv(\"embeddings_POI_hex2vec_10.csv\")"
   ]
  },
  {
   "cell_type": "code",
   "execution_count": null,
   "id": "4112c47f9a0f0512",
   "metadata": {
    "ExecuteTime": {
     "end_time": "2024-06-30T09:30:44.204470Z",
     "start_time": "2024-06-30T09:30:44.201359Z"
    }
   },
   "outputs": [],
   "source": [
    "# set index to region_id\n",
    "embeddings_POI_hex2vec.set_index(\"region_id\", inplace=True)"
   ]
  },
  {
   "cell_type": "code",
   "execution_count": null,
   "id": "eef1d19591ae92d8",
   "metadata": {
    "ExecuteTime": {
     "end_time": "2024-06-30T09:31:58.228326Z",
     "start_time": "2024-06-30T09:31:48.736299Z"
    }
   },
   "outputs": [],
   "source": [
    "pca_plot(embeddings_POI_hex2vec, selected_regions_gdf)"
   ]
  },
  {
   "cell_type": "code",
   "execution_count": null,
   "id": "2f95e75e84385166",
   "metadata": {
    "ExecuteTime": {
     "end_time": "2024-06-30T09:32:17.194725Z",
     "start_time": "2024-06-30T09:32:07.652172Z"
    }
   },
   "outputs": [],
   "source": [
    "pca_plot(embeddings_POI_geovex, selected_regions_gdf)"
   ]
  },
  {
   "cell_type": "code",
   "execution_count": null,
   "id": "ce6e1846fccbd182",
   "metadata": {
    "ExecuteTime": {
     "end_time": "2024-06-30T09:40:35.449699Z",
     "start_time": "2024-06-30T09:40:23.092086Z"
    }
   },
   "outputs": [],
   "source": [
    "# Export embeddings as csv\n",
    "embeddings_POI_hex2vec.to_csv(\"embeddings_POI_hex2vec_10.csv\")\n",
    "embeddings_POI_geovex.to_csv(\"embeddings_POI_geovex_10.csv\")"
   ]
  },
  {
   "cell_type": "code",
   "execution_count": null,
   "id": "8e4990b98fadd6a3",
   "metadata": {
    "ExecuteTime": {
     "end_time": "2024-06-29T19:47:23.509727Z",
     "start_time": "2024-06-29T19:47:23.509226Z"
    }
   },
   "outputs": [],
   "source": [
    "embeddings_POI_geovex.head()"
   ]
  },
  {
   "cell_type": "code",
   "execution_count": null,
   "id": "a1e8bca07fc6db29",
   "metadata": {
    "ExecuteTime": {
     "end_time": "2024-06-29T19:47:23.511227Z",
     "start_time": "2024-06-29T19:47:23.511227Z"
    }
   },
   "outputs": [],
   "source": []
  }
 ],
 "metadata": {
  "kernelspec": {
   "display_name": "Python 3",
   "language": "python",
   "name": "python3"
  },
  "language_info": {
   "codemirror_mode": {
    "name": "ipython",
    "version": 2
   },
   "file_extension": ".py",
   "mimetype": "text/x-python",
   "name": "python",
   "nbconvert_exporter": "python",
   "pygments_lexer": "ipython2",
   "version": "2.7.6"
  }
 },
 "nbformat": 4,
 "nbformat_minor": 5
}
