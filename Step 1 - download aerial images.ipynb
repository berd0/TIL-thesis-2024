{
 "cells": [
  {
   "cell_type": "code",
   "execution_count": null,
   "id": "initial_id",
   "metadata": {
    "ExecuteTime": {
     "end_time": "2024-07-06T12:16:29.875354Z",
     "start_time": "2024-07-06T12:16:27.154293Z"
    },
    "collapsed": true
   },
   "outputs": [],
   "source": [
    "import os\n",
    "from pathlib import Path\n",
    "import geopandas as gpd\n",
    "import requests\n",
    "from concurrent.futures import ThreadPoolExecutor\n",
    "from tqdm.auto import tqdm"
   ]
  },
  {
   "cell_type": "code",
   "execution_count": null,
   "id": "438eccdc0912b3d0",
   "metadata": {
    "ExecuteTime": {
     "end_time": "2024-07-06T12:16:29.882448Z",
     "start_time": "2024-07-06T12:16:29.876122Z"
    }
   },
   "outputs": [],
   "source": [
    "def fetch_and_save_image(region_id, minx, miny, maxx, maxy, folder_path, base_url):\n",
    "    file_path = os.path.join(folder_path, f\"{region_id}.jpg\")\n",
    "    if os.path.exists(file_path):\n",
    "        return  # Skip if the image already exists\n",
    "\n",
    "    bbox_string = f\"{minx},{miny},{maxx},{maxy}\"\n",
    "    params = {\n",
    "        'service': 'WMS',\n",
    "        'request': 'GetMap',\n",
    "        'version': '1.3.0',\n",
    "        'layers': 'Actueel_orthoHR',\n",
    "        'styles': '',\n",
    "        'bbox': bbox_string,\n",
    "        'width': '224',\n",
    "        'height': '224',\n",
    "        'crs': 'EPSG:28992',\n",
    "        'format': 'image/jpeg',\n",
    "    }\n",
    "\n",
    "    response = requests.get(base_url, params=params)\n",
    "    if response.status_code == 200:\n",
    "        with open(file_path, 'wb') as file:\n",
    "            file.write(response.content)\n",
    "    else:\n",
    "        print(f\"Failed to retrieve the image for region {region_id}. Status code:\", response.status_code)\n",
    "\n",
    "def download_missing_images(regions_gdf, images_dir, base_url, max_workers=36):\n",
    "    os.makedirs(images_dir, exist_ok=True)\n",
    "    existing_images = set(f.stem for f in Path(images_dir).glob(\"*.jpg\"))\n",
    "    all_region_ids = set(regions_gdf.index.astype(str))\n",
    "    missing_region_ids = all_region_ids - existing_images\n",
    "    missing_regions_gdf = regions_gdf.loc[list(missing_region_ids)]\n",
    "\n",
    "    print(f\"Number of existing images: {len(existing_images)}\")\n",
    "    print(f\"Number of missing images: {len(missing_region_ids)}\")\n",
    "\n",
    "    args_list = [(region_id, row['minx'], row['miny'], row['maxx'], row['maxy'], images_dir, base_url)\n",
    "                 for region_id, row in missing_regions_gdf.iterrows()]\n",
    "\n",
    "    with ThreadPoolExecutor(max_workers=max_workers) as executor:\n",
    "        list(tqdm(executor.map(lambda args: fetch_and_save_image(*args), args_list), total=len(args_list)))"
   ]
  },
  {
   "cell_type": "code",
   "execution_count": null,
   "id": "51c2f56643c8db2a",
   "metadata": {
    "ExecuteTime": {
     "end_time": "2024-07-06T18:07:50.679826Z",
     "start_time": "2024-07-06T12:16:29.883456Z"
    }
   },
   "outputs": [],
   "source": [
    "# Usage\n",
    "regions_buffered_gdf = gpd.read_file(\"selected_regions_buffered_10.geojson\")\n",
    "regions_buffered_gdf = regions_buffered_gdf.to_crs(epsg=28992)\n",
    "regions_buffered_gdf.set_index('region_id', inplace=True)\n",
    "bbox = regions_buffered_gdf.geometry.bounds\n",
    "regions_buffered_gdf['minx'] = bbox['minx']\n",
    "regions_buffered_gdf['miny'] = bbox['miny']\n",
    "regions_buffered_gdf['maxx'] = bbox['maxx']\n",
    "regions_buffered_gdf['maxy'] = bbox['maxy']\n",
    "\n",
    "images_dir = \"D://tu delft//Afstuderen//aerial_images_10\"\n",
    "base_url = \"https://service.pdok.nl/hwh/luchtfotorgb/wms/v1_0\"\n",
    "\n",
    "download_missing_images(regions_buffered_gdf, images_dir, base_url)"
   ]
  }
 ],
 "metadata": {
  "kernelspec": {
   "display_name": "Python 3",
   "language": "python",
   "name": "python3"
  },
  "language_info": {
   "codemirror_mode": {
    "name": "ipython",
    "version": 2
   },
   "file_extension": ".py",
   "mimetype": "text/x-python",
   "name": "python",
   "nbconvert_exporter": "python",
   "pygments_lexer": "ipython2",
   "version": "2.7.6"
  }
 },
 "nbformat": 4,
 "nbformat_minor": 5
}
