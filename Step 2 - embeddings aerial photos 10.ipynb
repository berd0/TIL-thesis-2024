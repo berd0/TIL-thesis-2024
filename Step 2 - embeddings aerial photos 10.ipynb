{
 "cells": [
  {
   "cell_type": "code",
   "execution_count": null,
   "id": "initial_id",
   "metadata": {
    "ExecuteTime": {
     "end_time": "2024-07-07T10:49:14.843109Z",
     "start_time": "2024-07-07T10:49:14.839780Z"
    },
    "collapsed": true
   },
   "outputs": [],
   "source": [
    "import os\n",
    "from pathlib import Path\n",
    "import numpy as np\n",
    "import torch\n",
    "from torch.utils.data import Dataset, DataLoader\n",
    "from torchvision import transforms\n",
    "from torchvision.models import convnext_large, ConvNeXt_Large_Weights\n",
    "from tqdm import tqdm\n",
    "from PIL import Image\n",
    "import pandas as pd\n",
    "from sklearn.decomposition import PCA"
   ]
  },
  {
   "cell_type": "code",
   "execution_count": null,
   "id": "616ac707ce2a351c",
   "metadata": {
    "ExecuteTime": {
     "end_time": "2024-07-07T10:49:14.856373Z",
     "start_time": "2024-07-07T10:49:14.846063Z"
    }
   },
   "outputs": [],
   "source": [
    "class AerialImageDataset(Dataset):\n",
    "    def __init__(self, regions_gdf, image_dir):\n",
    "        self.regions_gdf = regions_gdf\n",
    "        self.image_dir = image_dir\n",
    "        self.transform = transforms.Compose([\n",
    "            transforms.Resize((224, 224)),\n",
    "            transforms.ToTensor(),\n",
    "            transforms.Normalize(mean=[0.485, 0.456, 0.406], std=[0.229, 0.224, 0.225])\n",
    "        ])\n",
    "\n",
    "    def __len__(self):\n",
    "        return len(self.regions_gdf)\n",
    "\n",
    "    def __getitem__(self, idx):\n",
    "        region_id = self.regions_gdf.index[idx]\n",
    "        img_path = os.path.join(self.image_dir, f\"{region_id}.jpg\")\n",
    "\n",
    "        if os.path.exists(img_path):\n",
    "            image = Image.open(img_path).convert('RGB')\n",
    "            image = self.transform(image)\n",
    "        else:\n",
    "            # If image doesn't exist, return a tensor of zeros\n",
    "            image = torch.zeros(3, 224, 224)\n",
    "\n",
    "        return image, region_id\n",
    "\n",
    "def infer_embeddings(regions_gdf, image_dir, batch_size=128):\n",
    "    device = torch.device(\"cuda\" if torch.cuda.is_available() else \"cpu\")\n",
    "    model = convnext_large(weights=ConvNeXt_Large_Weights.DEFAULT)\n",
    "    model = torch.nn.Sequential(*list(model.children())[:-1])\n",
    "    model = model.to(device)\n",
    "    model.eval()\n",
    "\n",
    "    dataset = AerialImageDataset(regions_gdf, image_dir)\n",
    "    dataloader = DataLoader(\n",
    "        dataset,\n",
    "        batch_size=batch_size,\n",
    "        shuffle=False\n",
    "    )\n",
    "\n",
    "    embeddings = {}\n",
    "    with torch.no_grad():\n",
    "        for images, region_ids in tqdm(dataloader, desc=\"Inferring embeddings\"):\n",
    "            images = images.to(device)\n",
    "            features = model(images).squeeze(-1).squeeze(-1)\n",
    "\n",
    "            for i, region_id in enumerate(region_ids):\n",
    "                embeddings[region_id] = features[i].cpu().numpy()\n",
    "\n",
    "    df_embeddings = pd.DataFrame.from_dict(embeddings, orient='index')\n",
    "    return df_embeddings\n",
    "\n",
    "def apply_pca(df_embeddings, dimensions=[50, 200]):\n",
    "    results = {'original': df_embeddings}\n",
    "\n",
    "    for dim in dimensions:\n",
    "        pca = PCA(n_components=dim)\n",
    "        embeddings_reduced = pca.fit_transform(df_embeddings)\n",
    "        results[f'pca_{dim}'] = pd.DataFrame(embeddings_reduced, index=df_embeddings.index)\n",
    "\n",
    "    return results"
   ]
  },
  {
   "cell_type": "code",
   "execution_count": null,
   "id": "9b6ddef5e1288fe4",
   "metadata": {
    "ExecuteTime": {
     "end_time": "2024-07-07T11:34:46.636739Z",
     "start_time": "2024-07-07T10:49:14.857924Z"
    }
   },
   "outputs": [],
   "source": [
    "# Usage\n",
    "if __name__ == \"__main__\":\n",
    "    import geopandas as gpd\n",
    "\n",
    "    # Load your regions_buffered_gdf\n",
    "    regions_buffered_gdf = gpd.read_file(\"selected_regions_buffered_10.geojson\")\n",
    "    regions_buffered_gdf = regions_buffered_gdf.to_crs(epsg=28992)\n",
    "    regions_buffered_gdf.set_index('region_id', inplace=True)\n",
    "\n",
    "    image_dir = \"D://tu delft//Afstuderen//aerial_images_10\"\n",
    "\n",
    "    # Infer embeddings with simplified settings\n",
    "    df_embeddings = infer_embeddings(regions_buffered_gdf, image_dir, batch_size=128)\n",
    "\n",
    "    # Apply PCA and save (assuming you have these functions defined)\n",
    "    embedding_versions = apply_pca(df_embeddings)\n",
    "\n",
    "    for name, df in embedding_versions.items():\n",
    "        if name == 'original':\n",
    "            filename = f\"embeddings_aerial_10_original.csv\"\n",
    "        else:\n",
    "            dim = name.split('_')[1]\n",
    "            filename = f\"embeddings_aerial_10_dim{dim}.csv\"\n",
    "        df.to_csv(filename)\n",
    "        print(f\"Saved: {filename}\")\n",
    "\n",
    "    print(\"Embeddings inference and PCA completed. Results saved to CSV files.\")"
   ]
  },
  {
   "cell_type": "code",
   "execution_count": null,
   "id": "39fd89c5d0e8f7cf",
   "metadata": {},
   "outputs": [],
   "source": []
  }
 ],
 "metadata": {
  "kernelspec": {
   "display_name": "Python 3",
   "language": "python",
   "name": "python3"
  },
  "language_info": {
   "codemirror_mode": {
    "name": "ipython",
    "version": 2
   },
   "file_extension": ".py",
   "mimetype": "text/x-python",
   "name": "python",
   "nbconvert_exporter": "python",
   "pygments_lexer": "ipython2",
   "version": "2.7.6"
  }
 },
 "nbformat": 4,
 "nbformat_minor": 5
}
