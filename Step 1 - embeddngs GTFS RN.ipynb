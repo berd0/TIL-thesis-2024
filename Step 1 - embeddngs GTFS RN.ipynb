{
 "cells": [
  {
   "cell_type": "code",
   "execution_count": null,
   "id": "e94c2a7c5843c5f9",
   "metadata": {
    "ExecuteTime": {
     "end_time": "2024-06-29T19:27:29.825019Z",
     "start_time": "2024-06-29T19:27:29.822616Z"
    },
    "collapsed": false
   },
   "outputs": [],
   "source": []
  },
  {
   "cell_type": "code",
   "execution_count": null,
   "id": "initial_id",
   "metadata": {
    "ExecuteTime": {
     "end_time": "2024-06-29T19:27:37.803341Z",
     "start_time": "2024-06-29T19:27:29.826021Z"
    },
    "collapsed": true
   },
   "outputs": [],
   "source": [
    "import geopandas as gpd\n",
    "import pandas as pd\n",
    "import matplotlib.pyplot as plt\n",
    "from pytorch_lightning import seed_everything\n",
    "from sklearn.cluster import KMeans\n",
    "from sklearn.decomposition import PCA\n",
    "from sklearn.cluster import KMeans\n",
    "import h3\n",
    "from shapely.ops import transform\n",
    "from functools import partial\n",
    "import pyproj\n",
    "\n",
    "from srai.embedders import Highway2VecEmbedder, Hex2VecEmbedder, GTFS2VecEmbedder, GeoVexEmbedder\n",
    "from srai.joiners import IntersectionJoiner\n",
    "from srai.loaders import OSMNetworkType, OSMWayLoader, OSMOnlineLoader, OSMPbfLoader, GTFSLoader\n",
    "from srai.loaders.osm_loaders.filters import GEOFABRIK_LAYERS, HEX2VEC_FILTER\n",
    "from srai.neighbourhoods import H3Neighbourhood\n",
    "from srai.plotting import plot_regions, plot_numeric_data\n",
    "from srai.regionalizers import H3Regionalizer, geocode_to_region_gdf\n",
    "from srai.h3 import ring_buffer_h3_regions_gdf\n",
    "\n",
    "from pathlib import Path\n",
    "from tqdm import tqdm\n",
    "import torch\n",
    "from torchvision import transforms\n",
    "from torchvision.models import resnet50, ResNet50_Weights\n",
    "from PIL import Image\n",
    "import numpy as np\n",
    "from torch.utils.data import Dataset, DataLoader\n"
   ]
  },
  {
   "cell_type": "code",
   "execution_count": null,
   "id": "ebc2e7d81f56cc05",
   "metadata": {
    "ExecuteTime": {
     "end_time": "2024-06-29T19:27:37.807058Z",
     "start_time": "2024-06-29T19:27:37.804342Z"
    },
    "collapsed": false
   },
   "outputs": [],
   "source": [
    "import warnings\n",
    "warnings.filterwarnings('ignore')"
   ]
  },
  {
   "cell_type": "code",
   "execution_count": null,
   "id": "199677dc2efec3f1",
   "metadata": {
    "ExecuteTime": {
     "end_time": "2024-06-29T19:28:32.152209Z",
     "start_time": "2024-06-29T19:27:37.808059Z"
    }
   },
   "outputs": [],
   "source": [
    "selected_regions_gdf = gpd.read_file(\"selected_regions_10.geojson\")\n",
    "selected_regions_buffered_gdf = gpd.read_file(\"selected_regions_buffered_10.geojson\")\n",
    "# set index to region_id\n",
    "selected_regions_gdf.set_index(\"region_id\", inplace=True)\n",
    "selected_regions_buffered_gdf.set_index(\"region_id\", inplace=True)\n",
    "# remove irrelevant columns Index(['IntersectionArea', 'lbm', 'afw', 'fys', 'onv', 'soc', 'vrz', 'won'] (gives value error when doing hex2vec)\n",
    "selected_regions_gdf.drop(columns=['IntersectionArea', 'lbm', 'afw', 'fys', 'onv', 'soc', 'vrz', 'won'], inplace=True)\n",
    "selected_regions_buffered_gdf.drop(columns=['IntersectionArea', 'lbm', 'afw', 'fys', 'onv', 'soc', 'vrz', 'won'], inplace=True)"
   ]
  },
  {
   "cell_type": "markdown",
   "id": "5f504cfc77a96c4c",
   "metadata": {},
   "source": [
    "# Embeddings GTFS"
   ]
  },
  {
   "cell_type": "code",
   "execution_count": null,
   "id": "43532f3e79306129",
   "metadata": {
    "ExecuteTime": {
     "end_time": "2024-06-29T19:32:06.408042Z",
     "start_time": "2024-06-29T19:28:32.153711Z"
    }
   },
   "outputs": [],
   "source": [
    "gtfs_loader = GTFSLoader()\n",
    "features_gdf = gtfs_loader.load(\"D:\\\\tu delft\\\\Afstuderen\\\\gtfs_nl.zip\")"
   ]
  },
  {
   "cell_type": "code",
   "execution_count": null,
   "id": "491c852172fd443",
   "metadata": {
    "ExecuteTime": {
     "end_time": "2024-06-29T19:39:00.469699Z",
     "start_time": "2024-06-29T19:32:06.409544Z"
    },
    "collapsed": false
   },
   "outputs": [],
   "source": [
    "# Step 1: Replace NaN values with empty sets in columns expected to contain sets\n",
    "for column in features_gdf.columns:\n",
    "    if features_gdf[column].dtype == 'object':\n",
    "        features_gdf[column] = features_gdf[column].apply(lambda x: set() if pd.isna(x) else x)\n",
    "\n",
    "# Step 2: Convert floats to ints\n",
    "for column in features_gdf.columns:\n",
    "    if features_gdf[column].dtype == float:\n",
    "        features_gdf[column] = features_gdf[column].fillna(0).astype(int)\n",
    "\n",
    "# Step 3: Merging features messed up index names\n",
    "features_gdf.index.name = \"feature_id\"\n",
    "\n",
    "# Step 4: Join data now that it is in correct format\n",
    "joiner = IntersectionJoiner()\n",
    "joint_gdf = joiner.transform(selected_regions_buffered_gdf, features_gdf)\n",
    "\n",
    "# Step 5: Embed the features\n",
    "seed_everything(42)\n",
    "embedder = GTFS2VecEmbedder()\n",
    "embeddings_GTFS = embedder.fit_transform(selected_regions_buffered_gdf, features_gdf, joint_gdf)"
   ]
  },
  {
   "cell_type": "markdown",
   "id": "583fadf58733dae1",
   "metadata": {},
   "source": [
    "# Embeddings RN (road network)"
   ]
  },
  {
   "cell_type": "code",
   "execution_count": null,
   "id": "da218d3b470cdac6",
   "metadata": {
    "ExecuteTime": {
     "end_time": "2024-06-29T19:42:48.953459Z",
     "start_time": "2024-06-29T19:39:00.470700Z"
    },
    "collapsed": false
   },
   "outputs": [],
   "source": [
    "# Seed for reproducibility\n",
    "seed_everything(42)\n",
    "\n",
    "# Load OSM data\n",
    "loader = OSMWayLoader(OSMNetworkType.DRIVE)\n",
    "area_southholland_gdf = geocode_to_region_gdf(\"South Holland, Netherlands\")\n",
    "nodes_gdf, edges_gdf = loader.load(area_southholland_gdf)\n",
    "\n",
    "ax = edges_gdf.plot(linewidth=1, figsize=(12, 7))\n",
    "nodes_gdf.plot(ax=ax, markersize=3, color=\"red\")\n",
    "\n",
    "edges_gdf.to_crs(epsg=4326, inplace=True)\n",
    "selected_regions_buffered_gdf.to_crs(epsg=4326, inplace=True)"
   ]
  },
  {
   "cell_type": "code",
   "execution_count": null,
   "id": "b61bc5833aec5b9a",
   "metadata": {
    "ExecuteTime": {
     "end_time": "2024-06-29T19:42:51.313195Z",
     "start_time": "2024-06-29T19:42:48.953961Z"
    },
    "collapsed": false
   },
   "outputs": [],
   "source": [
    "# Join regions and edges\n",
    "# Note that joiner is already set to IntersectionJoiner() in the GTFS embedding step\n",
    "joint_gdf = joiner.transform(selected_regions_buffered_gdf, edges_gdf)"
   ]
  },
  {
   "cell_type": "code",
   "execution_count": null,
   "id": "c630b57ceb65b4a4",
   "metadata": {
    "ExecuteTime": {
     "end_time": "2024-06-29T19:43:38.193695Z",
     "start_time": "2024-06-29T19:42:51.314196Z"
    },
    "collapsed": false
   },
   "outputs": [],
   "source": [
    "# Embed the road network\n",
    "embedder = Highway2VecEmbedder()\n",
    "embedder.fit(selected_regions_buffered_gdf, edges_gdf, joint_gdf)\n",
    "embeddings_roadnetwork = embedder.transform(selected_regions_buffered_gdf, edges_gdf, joint_gdf)"
   ]
  },
  {
   "cell_type": "code",
   "execution_count": null,
   "id": "260ab4205039aa6c",
   "metadata": {},
   "outputs": [],
   "source": [
    "# Visualization and Export\n",
    "from Plotting import pca_plot, cluster_plot\n",
    "warnings.filterwarnings('ignore')\n",
    "#pca_plot(embeddings_GTFS, selected_regions_buffered_gdf)"
   ]
  },
  {
   "cell_type": "code",
   "execution_count": null,
   "id": "bcf59d2c7451633a",
   "metadata": {},
   "outputs": [],
   "source": [
    "#pca_plot(embeddings_roadnetwork, selected_regions_buffered_gdf)"
   ]
  },
  {
   "cell_type": "code",
   "execution_count": null,
   "id": "9c3a6f5512cca5aa",
   "metadata": {
    "ExecuteTime": {
     "end_time": "2024-06-29T19:50:36.645270Z",
     "start_time": "2024-06-29T19:50:36.641655Z"
    }
   },
   "outputs": [],
   "source": [
    "#pca_plot(embeddings_GTFS, selected_regions_gdf)"
   ]
  },
  {
   "cell_type": "code",
   "execution_count": null,
   "id": "b885268b75561da9",
   "metadata": {
    "ExecuteTime": {
     "end_time": "2024-06-29T19:53:10.051045Z",
     "start_time": "2024-06-29T19:53:10.048433Z"
    }
   },
   "outputs": [],
   "source": [
    "#cluster_plot(embeddings_roadnetwork, selected_regions_gdf, 6)"
   ]
  },
  {
   "cell_type": "code",
   "execution_count": null,
   "id": "8510c69d5fdf3cba",
   "metadata": {
    "ExecuteTime": {
     "end_time": "2024-06-29T19:53:21.945502Z",
     "start_time": "2024-06-29T19:53:10.615866Z"
    },
    "collapsed": false
   },
   "outputs": [],
   "source": [
    "# export embeddings\n",
    "embeddings_roadnetwork.to_csv(\"embeddings_roadnetwork_10.csv\")\n",
    "embeddings_GTFS.to_csv(\"embeddings_GTFS_10.csv\")"
   ]
  },
  {
   "cell_type": "code",
   "execution_count": null,
   "id": "45f70f2c66741a87",
   "metadata": {
    "collapsed": false,
    "jupyter": {
     "is_executing": true
    }
   },
   "outputs": [],
   "source": [
    "\n"
   ]
  },
  {
   "cell_type": "code",
   "execution_count": null,
   "id": "e71b3a06abefd6d7",
   "metadata": {
    "collapsed": false,
    "jupyter": {
     "is_executing": true
    }
   },
   "outputs": [],
   "source": []
  }
 ],
 "metadata": {
  "kernelspec": {
   "display_name": "Python 3",
   "language": "python",
   "name": "python3"
  },
  "language_info": {
   "codemirror_mode": {
    "name": "ipython",
    "version": 2
   },
   "file_extension": ".py",
   "mimetype": "text/x-python",
   "name": "python",
   "nbconvert_exporter": "python",
   "pygments_lexer": "ipython2",
   "version": "2.7.6"
  }
 },
 "nbformat": 4,
 "nbformat_minor": 5
}
